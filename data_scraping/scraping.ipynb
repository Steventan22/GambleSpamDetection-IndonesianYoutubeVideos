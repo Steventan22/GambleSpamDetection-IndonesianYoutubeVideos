{
 "cells": [
  {
   "cell_type": "code",
   "execution_count": 2,
   "metadata": {},
   "outputs": [
    {
     "name": "stdout",
     "output_type": "stream",
     "text": [
      "Note: you may need to restart the kernel to use updated packages.\n"
     ]
    },
    {
     "name": "stderr",
     "output_type": "stream",
     "text": [
      "ERROR: Could not find a version that satisfies the requirement json (from versions: none)\n",
      "\n",
      "[notice] A new release of pip is available: 25.0 -> 25.0.1\n",
      "[notice] To update, run: python.exe -m pip install --upgrade pip\n",
      "ERROR: No matching distribution found for json\n"
     ]
    },
    {
     "name": "stdout",
     "output_type": "stream",
     "text": [
      "Collecting youtube-comment-downloader\n",
      "  Using cached youtube_comment_downloader-0.1.76-py3-none-any.whl.metadata (2.9 kB)\n",
      "Collecting dateparser (from youtube-comment-downloader)\n",
      "  Using cached dateparser-1.2.1-py3-none-any.whl.metadata (29 kB)\n",
      "Requirement already satisfied: requests in c:\\users\\asus\\dokumen\\lecture\\rag project\\.venv\\lib\\site-packages (from youtube-comment-downloader) (2.32.3)\n",
      "Requirement already satisfied: python-dateutil>=2.7.0 in c:\\users\\asus\\dokumen\\lecture\\rag project\\.venv\\lib\\site-packages (from dateparser->youtube-comment-downloader) (2.9.0.post0)\n",
      "Requirement already satisfied: pytz>=2024.2 in c:\\users\\asus\\dokumen\\lecture\\rag project\\.venv\\lib\\site-packages (from dateparser->youtube-comment-downloader) (2024.2)\n",
      "Requirement already satisfied: regex!=2019.02.19,!=2021.8.27,>=2015.06.24 in c:\\users\\asus\\dokumen\\lecture\\rag project\\.venv\\lib\\site-packages (from dateparser->youtube-comment-downloader) (2024.11.6)\n",
      "Collecting tzlocal>=0.2 (from dateparser->youtube-comment-downloader)\n",
      "  Using cached tzlocal-5.3-py3-none-any.whl.metadata (7.6 kB)\n",
      "Requirement already satisfied: charset-normalizer<4,>=2 in c:\\users\\asus\\dokumen\\lecture\\rag project\\.venv\\lib\\site-packages (from requests->youtube-comment-downloader) (3.4.1)\n",
      "Requirement already satisfied: idna<4,>=2.5 in c:\\users\\asus\\dokumen\\lecture\\rag project\\.venv\\lib\\site-packages (from requests->youtube-comment-downloader) (3.10)\n",
      "Requirement already satisfied: urllib3<3,>=1.21.1 in c:\\users\\asus\\dokumen\\lecture\\rag project\\.venv\\lib\\site-packages (from requests->youtube-comment-downloader) (2.3.0)\n",
      "Requirement already satisfied: certifi>=2017.4.17 in c:\\users\\asus\\dokumen\\lecture\\rag project\\.venv\\lib\\site-packages (from requests->youtube-comment-downloader) (2025.1.31)\n",
      "Requirement already satisfied: six>=1.5 in c:\\users\\asus\\dokumen\\lecture\\rag project\\.venv\\lib\\site-packages (from python-dateutil>=2.7.0->dateparser->youtube-comment-downloader) (1.17.0)\n",
      "Requirement already satisfied: tzdata in c:\\users\\asus\\dokumen\\lecture\\rag project\\.venv\\lib\\site-packages (from tzlocal>=0.2->dateparser->youtube-comment-downloader) (2025.1)\n",
      "Using cached youtube_comment_downloader-0.1.76-py3-none-any.whl (8.2 kB)\n",
      "Using cached dateparser-1.2.1-py3-none-any.whl (295 kB)\n",
      "Using cached tzlocal-5.3-py3-none-any.whl (17 kB)\n",
      "Installing collected packages: tzlocal, dateparser, youtube-comment-downloader\n",
      "Successfully installed dateparser-1.2.1 tzlocal-5.3 youtube-comment-downloader-0.1.76\n",
      "Note: you may need to restart the kernel to use updated packages.\n"
     ]
    },
    {
     "name": "stderr",
     "output_type": "stream",
     "text": [
      "\n",
      "[notice] A new release of pip is available: 25.0 -> 25.0.1\n",
      "[notice] To update, run: python.exe -m pip install --upgrade pip\n"
     ]
    }
   ],
   "source": [
    "%pip install json\n",
    "%pip install youtube-comment-downloader"
   ]
  },
  {
   "cell_type": "code",
   "execution_count": null,
   "metadata": {},
   "outputs": [],
   "source": [
    "# Import required libraries\n",
    "import os\n",
    "import json\n",
    "import pandas as pd\n",
    "from youtube_comment_downloader import YoutubeCommentDownloader, SORT_BY_RECENT"
   ]
  },
  {
   "cell_type": "code",
   "execution_count": null,
   "metadata": {},
   "outputs": [],
   "source": [
    "# Use Youtube comment downloader\n",
    "def scrape_comments_for_video(video_url):\n",
    "    \"\"\"\n",
    "    Scrapes all comments for a given YouTube video URL using recent sort order.\n",
    "    \"\"\"\n",
    "    downloader = YoutubeCommentDownloader()\n",
    "    comments = []\n",
    "\n",
    "    for comment in downloader.get_comments_from_url(video_url, \n",
    "                                                    sort_by=SORT_BY_RECENT):\n",
    "        comments.append(comment)\n",
    "    \n",
    "    return comments"
   ]
  },
  {
   "cell_type": "code",
   "execution_count": null,
   "metadata": {},
   "outputs": [],
   "source": [
    "# List of YouTube video URLs\n",
    "video_links = [\n",
    "    'https://www.youtube.com/watch?v=m4IVB4KwTIE', \n",
    "    'https://www.youtube.com/watch?v=1OZTUriuTRo', \n",
    "    'https://www.youtube.com/watch?v=BDFb5JbzeUk', \n",
    "    'https://www.youtube.com/watch?v=qtFPbr0gQHg',\n",
    "    'https://www.youtube.com/watch?v=1D3Q9hw0zcM',\n",
    "    'https://www.youtube.com/watch?v=-5dbS-EZyio',\n",
    "    'https://www.youtube.com/watch?v=SH8yhR8RZ_w',\n",
    "    'https://www.youtube.com/watch?v=AAh2GCph3lg',\n",
    "    'https://www.youtube.com/watch?v=6hEXz-y3rUg',\n",
    "    'https://www.youtube.com/watch?v=phP5Sy3bFHk',\n",
    "]"
   ]
  },
  {
   "cell_type": "code",
   "execution_count": null,
   "metadata": {},
   "outputs": [
    {
     "name": "stdout",
     "output_type": "stream",
     "text": [
      "Scraping comments for: https://www.youtube.com/watch?v=m4IVB4KwTIE\n",
      "Retrieved 1094 comments for https://www.youtube.com/watch?v=m4IVB4KwTIE\n",
      "Scraping comments for: https://www.youtube.com/watch?v=1OZTUriuTRo\n",
      "Retrieved 8804 comments for https://www.youtube.com/watch?v=1OZTUriuTRo\n",
      "Scraping comments for: https://www.youtube.com/watch?v=BDFb5JbzeUk\n",
      "Retrieved 248 comments for https://www.youtube.com/watch?v=BDFb5JbzeUk\n",
      "Scraping comments for: https://www.youtube.com/watch?v=qtFPbr0gQHg\n",
      "Retrieved 1887 comments for https://www.youtube.com/watch?v=qtFPbr0gQHg\n",
      "Scraping comments for: https://www.youtube.com/watch?v=1D3Q9hw0zcM\n",
      "Retrieved 3942 comments for https://www.youtube.com/watch?v=1D3Q9hw0zcM\n",
      "Scraping comments for: https://www.youtube.com/watch?v=-5dbS-EZyio\n",
      "Retrieved 2340 comments for https://www.youtube.com/watch?v=-5dbS-EZyio\n",
      "Scraping comments for: https://www.youtube.com/watch?v=SH8yhR8RZ_w\n",
      "Retrieved 1069 comments for https://www.youtube.com/watch?v=SH8yhR8RZ_w\n",
      "Scraping comments for: https://www.youtube.com/watch?v=AAh2GCph3lg\n",
      "Retrieved 1863 comments for https://www.youtube.com/watch?v=AAh2GCph3lg\n",
      "Scraping comments for: https://www.youtube.com/watch?v=6hEXz-y3rUg\n",
      "Retrieved 1047 comments for https://www.youtube.com/watch?v=6hEXz-y3rUg\n",
      "Scraping comments for: https://www.youtube.com/watch?v=phP5Sy3bFHk\n",
      "Retrieved 552 comments for https://www.youtube.com/watch?v=phP5Sy3bFHk\n",
      "Done\n"
     ]
    }
   ],
   "source": [
    "# Scrape comments for each video\n",
    "all_video_comments = {}\n",
    "\n",
    "for url in video_links:\n",
    "    print(f\"Scraping comments for: {url}\")\n",
    "    try:\n",
    "        comments = scrape_comments_for_video(url)\n",
    "        all_video_comments[url] = comments\n",
    "        print(f\"Retrieved {len(comments)} comments for {url}\")\n",
    "    except Exception as e:\n",
    "        print(f\"Error while scraping {url}: {e}\")\n",
    "\n",
    "print(\"Done\")"
   ]
  },
  {
   "cell_type": "code",
   "execution_count": 8,
   "metadata": {},
   "outputs": [],
   "source": [
    "# Save all comments \n",
    "output_file_path = os.path.join(os.getcwd(), \"all_youtube_comments.json\")\n",
    "with open(\"all_youtube_comments.json\", \"w\", encoding=\"utf-8\") as f:\n",
    "    json.dump(all_video_comments, f, indent=2, ensure_ascii=False)"
   ]
  },
  {
   "cell_type": "code",
   "execution_count": null,
   "metadata": {},
   "outputs": [],
   "source": [
    "# Load all comments\n",
    "json_file =  os.path.join(os.getcwd(), \"all_youtube_comments.json\")\n",
    "\n",
    "with open(json_file, \"r\", encoding=\"utf-8\") as f:\n",
    "    data = json.load(f)"
   ]
  },
  {
   "cell_type": "code",
   "execution_count": null,
   "metadata": {},
   "outputs": [],
   "source": [
    "# Convert to list\n",
    "comments_list = []\n",
    "for video_url, comments in data.items():\n",
    "    for comment in comments:\n",
    "        comment['video_url'] = video_url\n",
    "        comments_list.append(comment)"
   ]
  },
  {
   "cell_type": "code",
   "execution_count": null,
   "metadata": {},
   "outputs": [
    {
     "data": {
      "text/html": [
       "<div>\n",
       "<style scoped>\n",
       "    .dataframe tbody tr th:only-of-type {\n",
       "        vertical-align: middle;\n",
       "    }\n",
       "\n",
       "    .dataframe tbody tr th {\n",
       "        vertical-align: top;\n",
       "    }\n",
       "\n",
       "    .dataframe thead th {\n",
       "        text-align: right;\n",
       "    }\n",
       "</style>\n",
       "<table border=\"1\" class=\"dataframe\">\n",
       "  <thead>\n",
       "    <tr style=\"text-align: right;\">\n",
       "      <th></th>\n",
       "      <th>id</th>\n",
       "      <th>cid</th>\n",
       "      <th>text</th>\n",
       "      <th>time</th>\n",
       "      <th>author</th>\n",
       "      <th>channel</th>\n",
       "      <th>votes</th>\n",
       "      <th>replies</th>\n",
       "      <th>photo</th>\n",
       "      <th>heart</th>\n",
       "      <th>reply</th>\n",
       "      <th>time_parsed</th>\n",
       "      <th>video_url</th>\n",
       "    </tr>\n",
       "  </thead>\n",
       "  <tbody>\n",
       "    <tr>\n",
       "      <th>0</th>\n",
       "      <td>1</td>\n",
       "      <td>UgwRn2V3WJCOkSXd0S54AaABAg</td>\n",
       "      <td>Download Magic Chess: Go Go: https://bit.ly/MC...</td>\n",
       "      <td>11 hari yang lalu (diedit)</td>\n",
       "      <td>@JessNoLimit</td>\n",
       "      <td>UCvh1at6xpV1ytYOAzxmqUsA</td>\n",
       "      <td>154</td>\n",
       "      <td>33</td>\n",
       "      <td>https://yt3.ggpht.com/72jGosJaua07u-qA8mROVLpQ...</td>\n",
       "      <td>True</td>\n",
       "      <td>False</td>\n",
       "      <td>1.740235e+09</td>\n",
       "      <td>https://www.youtube.com/watch?v=m4IVB4KwTIE</td>\n",
       "    </tr>\n",
       "    <tr>\n",
       "      <th>1</th>\n",
       "      <td>2</td>\n",
       "      <td>UgwRAu1FPqATsaskKc14AaABAg</td>\n",
       "      <td>ᗰᗩᑌ ᗷEᒪI ᗩKᑌᑎ ᗰᒪ SᗩYᗩ ᗷᗩᑎG ᒍESS ᑎO ᗷᑌᗩT TEᖇᗩᑭI...</td>\n",
       "      <td>1 jam yang lalu</td>\n",
       "      <td>@Nur-Aisyah-SMG</td>\n",
       "      <td>UCSckBZU6gtcb_2L2CKmS7Bg</td>\n",
       "      <td>0</td>\n",
       "      <td></td>\n",
       "      <td>https://yt3.ggpht.com/jkrU9TX5a3J5SluvQAoj3aDL...</td>\n",
       "      <td>False</td>\n",
       "      <td>False</td>\n",
       "      <td>1.741182e+09</td>\n",
       "      <td>https://www.youtube.com/watch?v=m4IVB4KwTIE</td>\n",
       "    </tr>\n",
       "    <tr>\n",
       "      <th>2</th>\n",
       "      <td>3</td>\n",
       "      <td>Ugxif6pZ2dkbMh39jO94AaABAg</td>\n",
       "      <td>Coba borong skin kof pake akun smurf bang 🎉</td>\n",
       "      <td>8 jam yang lalu</td>\n",
       "      <td>@2r9ujgy8l9</td>\n",
       "      <td>UC-aVyADGypvNeHXWcOf9kuA</td>\n",
       "      <td>0</td>\n",
       "      <td></td>\n",
       "      <td>https://yt3.ggpht.com/ytc/AIdro_mpVjK3oNlQZ99L...</td>\n",
       "      <td>False</td>\n",
       "      <td>False</td>\n",
       "      <td>1.741156e+09</td>\n",
       "      <td>https://www.youtube.com/watch?v=m4IVB4KwTIE</td>\n",
       "    </tr>\n",
       "    <tr>\n",
       "      <th>3</th>\n",
       "      <td>4</td>\n",
       "      <td>UgwXuyfjVQTv-o67d494AaABAg</td>\n",
       "      <td>bikin konten main magic chess bang</td>\n",
       "      <td>1 hari yang lalu</td>\n",
       "      <td>@mikasahwutt</td>\n",
       "      <td>UCcef7lSO2Mcd30eNrTg7wcQ</td>\n",
       "      <td>1</td>\n",
       "      <td></td>\n",
       "      <td>https://yt3.ggpht.com/D9cNDz0xHvYeszqxW9RZ_NIa...</td>\n",
       "      <td>False</td>\n",
       "      <td>False</td>\n",
       "      <td>1.741099e+09</td>\n",
       "      <td>https://www.youtube.com/watch?v=m4IVB4KwTIE</td>\n",
       "    </tr>\n",
       "    <tr>\n",
       "      <th>4</th>\n",
       "      <td>5</td>\n",
       "      <td>Ugw_zmu93q2WdXHQa-N4AaABAg</td>\n",
       "      <td>Sayang Banget 10jt di buang buang gitu, knp gx...</td>\n",
       "      <td>2 hari yang lalu</td>\n",
       "      <td>@irwancasper6772</td>\n",
       "      <td>UCNpjSPvLPOISSoFAafEmWkA</td>\n",
       "      <td>4</td>\n",
       "      <td></td>\n",
       "      <td>https://yt3.ggpht.com/ykil9BR1PNpmYEpRa_nzLqZm...</td>\n",
       "      <td>False</td>\n",
       "      <td>False</td>\n",
       "      <td>1.741012e+09</td>\n",
       "      <td>https://www.youtube.com/watch?v=m4IVB4KwTIE</td>\n",
       "    </tr>\n",
       "  </tbody>\n",
       "</table>\n",
       "</div>"
      ],
      "text/plain": [
       "   id                         cid  \\\n",
       "0   1  UgwRn2V3WJCOkSXd0S54AaABAg   \n",
       "1   2  UgwRAu1FPqATsaskKc14AaABAg   \n",
       "2   3  Ugxif6pZ2dkbMh39jO94AaABAg   \n",
       "3   4  UgwXuyfjVQTv-o67d494AaABAg   \n",
       "4   5  Ugw_zmu93q2WdXHQa-N4AaABAg   \n",
       "\n",
       "                                                text  \\\n",
       "0  Download Magic Chess: Go Go: https://bit.ly/MC...   \n",
       "1  ᗰᗩᑌ ᗷEᒪI ᗩKᑌᑎ ᗰᒪ SᗩYᗩ ᗷᗩᑎG ᒍESS ᑎO ᗷᑌᗩT TEᖇᗩᑭI...   \n",
       "2        Coba borong skin kof pake akun smurf bang 🎉   \n",
       "3                 bikin konten main magic chess bang   \n",
       "4  Sayang Banget 10jt di buang buang gitu, knp gx...   \n",
       "\n",
       "                         time            author                   channel  \\\n",
       "0  11 hari yang lalu (diedit)      @JessNoLimit  UCvh1at6xpV1ytYOAzxmqUsA   \n",
       "1             1 jam yang lalu   @Nur-Aisyah-SMG  UCSckBZU6gtcb_2L2CKmS7Bg   \n",
       "2             8 jam yang lalu       @2r9ujgy8l9  UC-aVyADGypvNeHXWcOf9kuA   \n",
       "3            1 hari yang lalu      @mikasahwutt  UCcef7lSO2Mcd30eNrTg7wcQ   \n",
       "4            2 hari yang lalu  @irwancasper6772  UCNpjSPvLPOISSoFAafEmWkA   \n",
       "\n",
       "  votes replies                                              photo  heart  \\\n",
       "0   154      33  https://yt3.ggpht.com/72jGosJaua07u-qA8mROVLpQ...   True   \n",
       "1     0          https://yt3.ggpht.com/jkrU9TX5a3J5SluvQAoj3aDL...  False   \n",
       "2     0          https://yt3.ggpht.com/ytc/AIdro_mpVjK3oNlQZ99L...  False   \n",
       "3     1          https://yt3.ggpht.com/D9cNDz0xHvYeszqxW9RZ_NIa...  False   \n",
       "4     4          https://yt3.ggpht.com/ykil9BR1PNpmYEpRa_nzLqZm...  False   \n",
       "\n",
       "   reply   time_parsed                                    video_url  \n",
       "0  False  1.740235e+09  https://www.youtube.com/watch?v=m4IVB4KwTIE  \n",
       "1  False  1.741182e+09  https://www.youtube.com/watch?v=m4IVB4KwTIE  \n",
       "2  False  1.741156e+09  https://www.youtube.com/watch?v=m4IVB4KwTIE  \n",
       "3  False  1.741099e+09  https://www.youtube.com/watch?v=m4IVB4KwTIE  \n",
       "4  False  1.741012e+09  https://www.youtube.com/watch?v=m4IVB4KwTIE  "
      ]
     },
     "execution_count": 9,
     "metadata": {},
     "output_type": "execute_result"
    }
   ],
   "source": [
    "# Convert to DataFrame\n",
    "df = pd.DataFrame(comments_list)\n",
    "df.insert(0, \"id\", range(1, len(df) + 1))\n",
    "df.head()\n"
   ]
  },
  {
   "cell_type": "code",
   "execution_count": null,
   "metadata": {},
   "outputs": [],
   "source": [
    "# Save to CSV\n",
    "csv_file_path = os.path.join(os.getcwd(), \"youtube_comments_dataset.csv\")\n",
    "df.to_csv(csv_file_path, index=False, encoding=\"utf-8-sig\")"
   ]
  },
  {
   "cell_type": "code",
   "execution_count": null,
   "metadata": {},
   "outputs": [],
   "source": []
  }
 ],
 "metadata": {
  "kernelspec": {
   "display_name": "Gamble Detection Project",
   "language": "python",
   "name": "gamble_detection_project"
  },
  "language_info": {
   "codemirror_mode": {
    "name": "ipython",
    "version": 3
   },
   "file_extension": ".py",
   "mimetype": "text/x-python",
   "name": "python",
   "nbconvert_exporter": "python",
   "pygments_lexer": "ipython3",
   "version": "3.12.2"
  }
 },
 "nbformat": 4,
 "nbformat_minor": 2
}
